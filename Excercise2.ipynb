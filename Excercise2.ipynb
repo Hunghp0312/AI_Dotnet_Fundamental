{
  "cells": [
    {
      "cell_type": "markdown",
      "metadata": {},
      "source": [
        "# ML.NET Advanced (Simple Exercise) — .NET Interactive Notebook\n",
        "\n",
        "This notebook gives you a **minimal, clean C# setup** in Jupyter for ML.NET:\n",
        "\n",
        "1) Create a tiny Vietnamese sentiment dataset\n",
        "2) Train/Test split\n",
        "3) Build a pipeline (FeaturizeText → NormalizeMinMax → Concatenate → SDCA)\n",
        "4) Train & Evaluate (Accuracy, AUC, F1, etc.)\n",
        "5) Save/Load model\n",
        "6) Predict (single & batch)\n",
        "\n",
        "> **Prereq**: Install the .NET Interactive Jupyter kernel (one-time):\n",
        ">\n",
        "```bash\n",
        "dotnet tool install -g Microsoft.dotnet-interactive\n",
        "dotnet interactive jupyter install\n",
        "```\n",
        "\n",
        "Then open this notebook and select **.NET (C#)** kernel."
      ]
    },
    {
      "cell_type": "code",
      "execution_count": 1,
      "metadata": {
        "dotnet_interactive": {
          "language": "csharp"
        }
      },
      "outputs": [
        {
          "data": {
            "text/html": [
              "<div><div></div><div></div><div><strong>Installed Packages</strong><ul><li><span>Microsoft.ML, 3.0.1</span></li></ul></div></div>"
            ]
          },
          "metadata": {},
          "output_type": "display_data"
        }
      ],
      "source": [
        "#r \"nuget: Microsoft.ML, 3.0.1\"\n",
        "using System;\n",
        "using System.Collections.Generic;\n",
        "using System.Linq;\n",
        "using Microsoft.ML;\n",
        "using Microsoft.ML.Data;"
      ]
    },
    {
      "cell_type": "markdown",
      "metadata": {},
      "source": [
        "## Define data schema"
      ]
    },
    {
      "cell_type": "code",
      "execution_count": 2,
      "metadata": {
        "dotnet_interactive": {
          "language": "csharp"
        }
      },
      "outputs": [],
      "source": [
        "public class ReviewInput\n",
        "{\n",
        "    [LoadColumn(0)]\n",
        "    public string Text { get; set; } = string.Empty;\n",
        "\n",
        "    [LoadColumn(1), ColumnName(\"Label\")]\n",
        "    public bool Label { get; set; }\n",
        "}\n",
        "\n",
        "public class ReviewPrediction\n",
        "{\n",
        "    [ColumnName(\"PredictedLabel\")] public bool Prediction { get; set; }\n",
        "    public float Probability { get; set; }\n",
        "    public float Score { get; set; }\n",
        "}"
      ]
    },
    {
      "cell_type": "markdown",
      "metadata": {},
      "source": [
        "## Create a tiny sample dataset (Vietnamese reviews)"
      ]
    },
    {
      "cell_type": "code",
      "execution_count": 3,
      "metadata": {
        "dotnet_interactive": {
          "language": "csharp"
        }
      },
      "outputs": [
        {
          "name": "stdout",
          "output_type": "stream",
          "text": [
            "Total samples: 12\r\n"
          ]
        }
      ],
      "source": [
        "var samples = new List<ReviewInput>\n",
        "{\n",
        "    new() { Text = \"Dịch vụ rất tốt\", Label = true },\n",
        "    new() { Text = \"Tôi rất hài lòng\", Label = true },\n",
        "    new() { Text = \"Nhanh và chuyên nghiệp\", Label = true },\n",
        "    new() { Text = \"Thái độ nhân viên thân thiện\", Label = true },\n",
        "    new() { Text = \"Sản phẩm chất lượng\", Label = true },\n",
        "    new() { Text = \"Tuyệt vời\", Label = true },\n",
        "    new() { Text = \"Quá tệ, tôi thất vọng\", Label = false },\n",
        "    new() { Text = \"Chậm chạp và không hỗ trợ\", Label = false },\n",
        "    new() { Text = \"Thái độ không tốt\", Label = false },\n",
        "    new() { Text = \"Sẽ không quay lại nữa\", Label = false },\n",
        "    new() { Text = \"Bình thường, không có gì đặc biệt\", Label = false },\n",
        "    new() { Text = \"Giá cao và không xứng đáng\", Label = false },\n",
        "};\n",
        "\n",
        "Console.WriteLine($\"Total samples: {samples.Count}\");"
      ]
    },
    {
      "cell_type": "markdown",
      "metadata": {},
      "source": [
        "## MLContext and Train/Test Split"
      ]
    },
    {
      "cell_type": "code",
      "execution_count": 4,
      "metadata": {
        "dotnet_interactive": {
          "language": "csharp"
        }
      },
      "outputs": [
        {
          "name": "stdout",
          "output_type": "stream",
          "text": [
            "Train rows: 10 | Test rows: 2\r\n"
          ]
        }
      ],
      "source": [
        "var ml = new MLContext(seed: 42);\n",
        "var allData = ml.Data.LoadFromEnumerable(samples);\n",
        "\n",
        "// 80/20 split\n",
        "var split = ml.Data.TrainTestSplit(allData, testFraction: 0.2);\n",
        "var train = split.TrainSet;\n",
        "var test  = split.TestSet;\n",
        "Console.WriteLine($\"Train rows: {ml.Data.CreateEnumerable<ReviewInput>(train, false).Count()} | Test rows: {ml.Data.CreateEnumerable<ReviewInput>(test, false).Count()}\");"
      ]
    },
    {
      "cell_type": "markdown",
      "metadata": {},
      "source": [
        "## Build a simple advanced pipeline\n",
        "Pipeline: **FeaturizeText → NormalizeMinMax → Concatenate → SDCA (Logistic Regression)**"
      ]
    },
    {
      "cell_type": "code",
      "execution_count": 5,
      "metadata": {
        "dotnet_interactive": {
          "language": "csharp"
        }
      },
      "outputs": [
        {
          "name": "stdout",
          "output_type": "stream",
          "text": [
            "Model trained.\r\n"
          ]
        }
      ],
      "source": [
        "var pipeline = ml.Transforms.Text.FeaturizeText(\"TextFeaturized\", nameof(ReviewInput.Text))\n",
        "    .Append(ml.Transforms.NormalizeMinMax(\"TextFeaturized\"))\n",
        "    .Append(ml.Transforms.Concatenate(\"Features\", \"TextFeaturized\"))\n",
        "    .Append(ml.BinaryClassification.Trainers.SdcaLogisticRegression(\n",
        "        labelColumnName: \"Label\",\n",
        "        featureColumnName: \"Features\"));\n",
        "\n",
        "var model = pipeline.Fit(train);\n",
        "Console.WriteLine(\"Model trained.\");"
      ]
    },
    {
      "cell_type": "markdown",
      "metadata": {},
      "source": [
        "## Evaluate"
      ]
    },
    {
      "cell_type": "code",
      "execution_count": 6,
      "metadata": {
        "dotnet_interactive": {
          "language": "csharp"
        }
      },
      "outputs": [
        {
          "name": "stdout",
          "output_type": "stream",
          "text": [
            "Accuracy: 50.00%\n",
            "AUC: 0.00%\n",
            "F1: 66.67%\r\n"
          ]
        }
      ],
      "source": [
        "var preds = model.Transform(test);\n",
        "var m = ml.BinaryClassification.Evaluate(preds, labelColumnName: \"Label\", scoreColumnName: \"Score\");\n",
        "Console.WriteLine($\"Accuracy: {m.Accuracy:P2}\\nAUC: {m.AreaUnderRocCurve:P2}\\nF1: {m.F1Score:P2}\");"
      ]
    },
    {
      "cell_type": "markdown",
      "metadata": {},
      "source": [
        "## Save model to .zip"
      ]
    },
    {
      "cell_type": "code",
      "execution_count": 8,
      "metadata": {
        "dotnet_interactive": {
          "language": "csharp"
        }
      },
      "outputs": [
        {
          "name": "stdout",
          "output_type": "stream",
          "text": [
            "Saved to: c:\\AI .NET\\Notebook\\reviewModel.zip\r\n"
          ]
        }
      ],
      "source": [
        "using System.IO;\n",
        "\n",
        "var modelPath = Path.Combine(Directory.GetCurrentDirectory(), \"reviewModel.zip\");\n",
        "ml.Model.Save(model, train.Schema, modelPath);\n",
        "Console.WriteLine($\"Saved to: {modelPath}\");"
      ]
    },
    {
      "cell_type": "markdown",
      "metadata": {},
      "source": [
        "## Load model & single prediction"
      ]
    },
    {
      "cell_type": "code",
      "execution_count": 10,
      "metadata": {
        "dotnet_interactive": {
          "language": "csharp"
        }
      },
      "outputs": [
        {
          "name": "stdout",
          "output_type": "stream",
          "text": [
            "Text: Chất lượng rất tuyệt vời\n",
            "Prediction: True | Prob: 0.9994 | Score: 7.4323\r\n"
          ]
        }
      ],
      "source": [
        "var fs = File.OpenRead(modelPath);\n",
        "var loaded = ml.Model.Load(fs, out _);\n",
        "var engine = ml.Model.CreatePredictionEngine<ReviewInput, ReviewPrediction>(loaded);\n",
        "\n",
        "var input = new ReviewInput { Text = \"Chất lượng rất tuyệt vời\" };\n",
        "var pred = engine.Predict(input);\n",
        "Console.WriteLine($\"Text: {input.Text}\\nPrediction: {pred.Prediction} | Prob: {pred.Probability:F4} | Score: {pred.Score:F4}\");"
      ]
    },
    {
      "cell_type": "markdown",
      "metadata": {},
      "source": [
        "## Batch prediction"
      ]
    },
    {
      "cell_type": "code",
      "execution_count": 11,
      "metadata": {
        "dotnet_interactive": {
          "language": "csharp"
        }
      },
      "outputs": [
        {
          "name": "stdout",
          "output_type": "stream",
          "text": [
            "1. 'Quá tệ và phục vụ chậm' => Pred: True, Prob: 0.8483\n",
            "2. 'Tôi hài lòng về trải nghiệm' => Pred: True, Prob: 0.9833\n",
            "3. 'Bình thường' => Pred: False, Prob: 0.3601\n"
          ]
        }
      ],
      "source": [
        "var batch = new []\n",
        "{\n",
        "    new ReviewInput { Text = \"Quá tệ và phục vụ chậm\" },\n",
        "    new ReviewInput { Text = \"Tôi hài lòng về trải nghiệm\" },\n",
        "    new ReviewInput { Text = \"Bình thường\" }\n",
        "};\n",
        "\n",
        "var dv = ml.Data.LoadFromEnumerable(batch);\n",
        "var scored = loaded.Transform(dv);\n",
        "var results = ml.Data.CreateEnumerable<ReviewPrediction>(scored, reuseRowObject: false).ToList();\n",
        "\n",
        "for (int i = 0; i < batch.Length; i++)\n",
        "{\n",
        "    Console.WriteLine($\"{i+1}. '{batch[i].Text}' => Pred: {results[i].Prediction}, Prob: {results[i].Probability:F4}\");\n",
        "}"
      ]
    },
    {
      "cell_type": "markdown",
      "metadata": {},
      "source": [
        "### Try other transforms/trainers (optional)\n",
        "You can experiment by replacing SDCA with L-BFGS Logistic Regression:\n",
        "\n",
        "```csharp\n",
        "var pipeline = ml.Transforms.Text.FeaturizeText(\"TextFeaturized\", nameof(ReviewInput.Text))\n",
        "    .Append(ml.Transforms.NormalizeMinMax(\"TextFeaturized\"))\n",
        "    .Append(ml.Transforms.Concatenate(\"Features\", \"TextFeaturized\"))\n",
        "    .Append(ml.BinaryClassification.Trainers.LbfgsLogisticRegression(labelColumnName: \"Label\", featureColumnName: \"Features\"));\n",
        "```\n",
        "\n",
        "Or try `NormalizeMeanVariance` instead of `NormalizeMinMax`."
      ]
    },
    {
      "cell_type": "markdown",
      "id": "2d9f067e",
      "metadata": {},
      "source": []
    },
    {
      "cell_type": "markdown",
      "id": "7f7c863d",
      "metadata": {},
      "source": []
    }
  ],
  "metadata": {
    "kernelspec": {
      "display_name": ".NET (C#)",
      "language": "C#",
      "name": ".net-csharp"
    },
    "language_info": {
      "file_extension": ".cs",
      "mimetype": "text/x-csharp",
      "name": "polyglot-notebook",
      "version": ""
    },
    "polyglot_notebook": {
      "kernelInfo": {
        "defaultKernelName": "csharp",
        "items": [
          {
            "aliases": [],
            "name": "csharp"
          }
        ]
      }
    }
  },
  "nbformat": 4,
  "nbformat_minor": 5
}
