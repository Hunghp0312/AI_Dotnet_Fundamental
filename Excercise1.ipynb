{
 "cells": [
  {
   "cell_type": "code",
   "execution_count": 1,
   "id": "9e46e590",
   "metadata": {
    "language_info": {
     "name": "polyglot-notebook"
    },
    "polyglot_notebook": {
     "kernelName": "csharp"
    }
   },
   "outputs": [
    {
     "data": {
      "text/html": [
       "<div><div></div><div></div><div><strong>Installed Packages</strong><ul><li><span>Microsoft.ML, 4.0.2</span></li><li><span>Microsoft.SemanticKernel, 1.66.0</span></li></ul></div></div>"
      ]
     },
     "metadata": {},
     "output_type": "display_data"
    }
   ],
   "source": [
    "// Add NuGet packages for ML.NET and Semantic Kernel\n",
    "#r \"nuget: Microsoft.ML\"\n",
    "#r \"nuget: Microsoft.SemanticKernel\""
   ]
  },
  {
   "cell_type": "code",
   "execution_count": 5,
   "id": "e743174e",
   "metadata": {
    "language_info": {
     "name": "polyglot-notebook"
    },
    "polyglot_notebook": {
     "kernelName": "csharp"
    }
   },
   "outputs": [
    {
     "name": "stdout",
     "output_type": "stream",
     "text": [
      "Positive: False, Score: -8.317553\r\n"
     ]
    }
   ],
   "source": [
    "using Microsoft.ML;\n",
    "\n",
    "using Microsoft.ML.Data;\n",
    "\n",
    "\n",
    "public class SentimentData\n",
    "\n",
    "{\n",
    "\n",
    "[LoadColumn(0)]\n",
    "\n",
    "public string Text { get; set; }\n",
    "\n",
    "[LoadColumn(1), ColumnName(\"Label\")]\n",
    "\n",
    "public bool Sentiment { get; set; }\n",
    "\n",
    "}\n",
    "\n",
    "\n",
    "public class SentimentPrediction\n",
    "\n",
    "{\n",
    "\n",
    "[ColumnName(\"PredictedLabel\")]\n",
    "\n",
    "public bool Prediction { get; set; }\n",
    "\n",
    "public float Probability { get; set; }\n",
    "\n",
    "public float Score { get; set; }\n",
    "\n",
    "}\n",
    "\n",
    "\n",
    "var mlContext = new MLContext();\n",
    "\n",
    "var data = mlContext.Data.LoadFromTextFile<SentimentData>(\n",
    "\n",
    "\"sentiment_4000.csv\", hasHeader: true);\n",
    "\n",
    "\n",
    "var pipeline = mlContext.Transforms.Text.FeaturizeText(\"Features\", nameof(SentimentData.Text))\n",
    "\n",
    ".Append(mlContext.BinaryClassification.Trainers.SdcaLogisticRegression());\n",
    "\n",
    "\n",
    "var model = pipeline.Fit(data);\n",
    "\n",
    "var engine = mlContext.Model.CreatePredictionEngine<SentimentData, SentimentPrediction>(model);\n",
    "\n",
    "\n",
    "var sample = new SentimentData { Text = \"This charger is great—I'm very satisfied with it.\" };\n",
    "\n",
    "var prediction = engine.Predict(sample);\n",
    "\n",
    "\n",
    "Console.WriteLine($\"Positive: {prediction.Prediction}, Score: {prediction.Score}\");"
   ]
  },
  {
   "cell_type": "code",
   "execution_count": null,
   "metadata": {
    "language_info": {
     "name": "polyglot-notebook"
    },
    "polyglot_notebook": {
     "kernelName": "csharp"
    }
   },
   "outputs": [],
   "source": []
  }
 ],
 "metadata": {
  "kernelspec": {
   "display_name": ".NET (C#)",
   "language": "C#",
   "name": ".net-csharp"
  },
  "language_info": {
   "name": "polyglot-notebook"
  },
  "polyglot_notebook": {
   "kernelInfo": {
    "defaultKernelName": "csharp",
    "items": [
     {
      "aliases": [],
      "languageName": "csharp",
      "name": "csharp"
     }
    ]
   }
  }
 },
 "nbformat": 4,
 "nbformat_minor": 5
}
